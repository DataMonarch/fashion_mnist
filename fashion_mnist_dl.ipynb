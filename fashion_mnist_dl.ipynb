{
  "nbformat": 4,
  "nbformat_minor": 0,
  "metadata": {
    "colab": {
      "name": "Untitled6.ipynb",
      "provenance": [],
      "authorship_tag": "ABX9TyN1OwW3Qzx4l9KRZpMThr9V",
      "include_colab_link": true
    },
    "kernelspec": {
      "name": "python3",
      "display_name": "Python 3"
    },
    "language_info": {
      "name": "python"
    },
    "accelerator": "TPU",
    "gpuClass": "standard"
  },
  "cells": [
    {
      "cell_type": "markdown",
      "metadata": {
        "id": "view-in-github",
        "colab_type": "text"
      },
      "source": [
        "<a href=\"https://colab.research.google.com/github/DataMonarch/fashion_mnist/blob/main/fashion_mnist_dl.ipynb\" target=\"_parent\"><img src=\"https://colab.research.google.com/assets/colab-badge.svg\" alt=\"Open In Colab\"/></a>"
      ]
    },
    {
      "cell_type": "code",
      "execution_count": 24,
      "metadata": {
        "id": "pgL74hs8DS5p"
      },
      "outputs": [],
      "source": [
        "import tensorflow as tf\n",
        "import numpy as np\n",
        "import os\n",
        "import distutils\n",
        "import datetime"
      ]
    },
    {
      "cell_type": "code",
      "source": [
        "(x_train, y_train), (x_test, y_test) = tf.keras.datasets.fashion_mnist.load_data()\n",
        "\n",
        "x_train = np.expand_dims(x_train, -1)\n",
        "x_test = np.expand_dims(x_test, -1)"
      ],
      "metadata": {
        "id": "5PAwpbWNDx_9"
      },
      "execution_count": 6,
      "outputs": []
    },
    {
      "cell_type": "code",
      "source": [
        "x_train.shape"
      ],
      "metadata": {
        "colab": {
          "base_uri": "https://localhost:8080/"
        },
        "id": "_kKYwDnRFrLc",
        "outputId": "13e300bc-fb53-430e-fe69-541cf0a1f4f6"
      },
      "execution_count": 7,
      "outputs": [
        {
          "output_type": "execute_result",
          "data": {
            "text/plain": [
              "(60000, 28, 28, 1)"
            ]
          },
          "metadata": {},
          "execution_count": 7
        }
      ]
    },
    {
      "cell_type": "code",
      "source": [
        ""
      ],
      "metadata": {
        "colab": {
          "base_uri": "https://localhost:8080/"
        },
        "id": "DkzF8uYnJdMN",
        "outputId": "d67de462-3870-47a4-d676-4d283624b833"
      },
      "execution_count": 19,
      "outputs": [
        {
          "output_type": "execute_result",
          "data": {
            "text/plain": [
              "(60000,)"
            ]
          },
          "metadata": {},
          "execution_count": 19
        }
      ]
    },
    {
      "cell_type": "code",
      "source": [
        "from tensorflow.keras.layers import BatchNormalization, Conv2D, MaxPooling2D, Dropout, Flatten, Dense, Activation"
      ],
      "metadata": {
        "id": "Fc0OJGKdGzFH"
      },
      "execution_count": 10,
      "outputs": []
    },
    {
      "cell_type": "code",
      "source": [
        "%load_ext tensorboard\n",
        "# Clear any logs from previous runs\n",
        "!rm -rf ./logs/ "
      ],
      "metadata": {
        "colab": {
          "base_uri": "https://localhost:8080/"
        },
        "id": "q-OvOjUYJIVg",
        "outputId": "3b99fe44-bfe5-4465-c15f-d6b377812851"
      },
      "execution_count": 12,
      "outputs": [
        {
          "output_type": "stream",
          "name": "stdout",
          "text": [
            "The tensorboard extension is already loaded. To reload it, use:\n",
            "  %reload_ext tensorboard\n"
          ]
        }
      ]
    },
    {
      "cell_type": "code",
      "source": [
        "def create_model():\n",
        "    model = tf.keras.models.Sequential()\n",
        "    model.add(BatchNormalization(input_shape = x_train.shape[1:]))\n",
        "    model.add(Conv2D(64, (5, 5), padding='same', activation='elu'))\n",
        "    model.add(MaxPooling2D(pool_size=(2,2), strides=(2,2)))\n",
        "    model.add(Dropout(0.05))\n",
        "\n",
        "    model = tf.keras.models.Sequential()\n",
        "    model.add(BatchNormalization(input_shape = x_train.shape[1:]))\n",
        "    model.add(Conv2D(128, (5, 5), padding='same', activation='elu'))\n",
        "    model.add(MaxPooling2D(pool_size=(2,2)))\n",
        "    model.add(Dropout(0.05))\n",
        "\n",
        "    model = tf.keras.models.Sequential()\n",
        "    model.add(BatchNormalization(input_shape = x_train.shape[1:]))\n",
        "    model.add(Conv2D(128, (5, 5), padding='same', activation='elu'))\n",
        "    model.add(MaxPooling2D(pool_size=(2,2), strides=(2,2)))\n",
        "    model.add(Dropout(0.05))\n",
        "\n",
        "    model.add(Flatten())\n",
        "    model.add(Dense(128))\n",
        "    model.add(Activation('elu'))\n",
        "    model.add(Dropout(0.05))\n",
        "    model.add(Dense(10))\n",
        "    model.add(Activation('softmax'))\n",
        "\n",
        "    return model\n",
        "\n"
      ],
      "metadata": {
        "id": "UpzMSKpBFtsj"
      },
      "execution_count": 20,
      "outputs": []
    },
    {
      "cell_type": "code",
      "source": [
        "tf.keras.backend.clear_session()\n",
        "\n",
        "resolver = tf.distribute.cluster_resolver.TPUClusterResolver('grpc://' + os.environ['COLAB_TPU_ADDR'])\n",
        "tf.config.experimental_connect_to_cluster(resolver)\n",
        "\n",
        "# This is the TPU initialization code that has to be at the beginning.\n",
        "tf.tpu.experimental.initialize_tpu_system(resolver)\n",
        "print(\"All devices: \", tf.config.list_logical_devices('TPU'))"
      ],
      "metadata": {
        "colab": {
          "base_uri": "https://localhost:8080/"
        },
        "id": "HsrRAd_tKHlW",
        "outputId": "1fa81651-2adf-4f23-facf-c0b99ec45551"
      },
      "execution_count": 21,
      "outputs": [
        {
          "output_type": "stream",
          "name": "stdout",
          "text": [
            "All devices:  [LogicalDevice(name='/job:worker/replica:0/task:0/device:TPU:0', device_type='TPU'), LogicalDevice(name='/job:worker/replica:0/task:0/device:TPU:1', device_type='TPU'), LogicalDevice(name='/job:worker/replica:0/task:0/device:TPU:2', device_type='TPU'), LogicalDevice(name='/job:worker/replica:0/task:0/device:TPU:3', device_type='TPU'), LogicalDevice(name='/job:worker/replica:0/task:0/device:TPU:4', device_type='TPU'), LogicalDevice(name='/job:worker/replica:0/task:0/device:TPU:5', device_type='TPU'), LogicalDevice(name='/job:worker/replica:0/task:0/device:TPU:6', device_type='TPU'), LogicalDevice(name='/job:worker/replica:0/task:0/device:TPU:7', device_type='TPU')]\n"
          ]
        }
      ]
    },
    {
      "cell_type": "code",
      "source": [
        "strategy = tf.distribute.experimental.TPUStrategy(resolver)"
      ],
      "metadata": {
        "colab": {
          "base_uri": "https://localhost:8080/"
        },
        "id": "Y99BWd6pKKzb",
        "outputId": "d25ca7fd-74b5-4d4e-fec5-0d669c838856"
      },
      "execution_count": 22,
      "outputs": [
        {
          "output_type": "stream",
          "name": "stderr",
          "text": [
            "WARNING:absl:`tf.distribute.experimental.TPUStrategy` is deprecated, please use  the non experimental symbol `tf.distribute.TPUStrategy` instead.\n"
          ]
        }
      ]
    },
    {
      "cell_type": "code",
      "source": [
        "with strategy.scope():\n",
        "  model = create_model()\n",
        "  model.compile(\n",
        "      optimizer=tf.keras.optimizers.Adam(learning_rate=0.001, ),\n",
        "      loss='sparse_categorical_crossentropy',\n",
        "      metrics=['sparse_categorical_accuracy'])\n",
        "  \n",
        "log_dir = \"logs/fit/\" + datetime.datetime.now().strftime(\"%Y%m%d-%H%M%S\")\n",
        "tensorboard_callback = tf.keras.callbacks.TensorBoard(log_dir=log_dir, histogram_freq=1)\n",
        "\n",
        "model.fit(\n",
        "    x_train.astype(np.float32), y_train.astype(np.float32),\n",
        "    epochs=17,\n",
        "    steps_per_epoch=60,\n",
        "    validation_data=(x_test.astype(np.float32), y_test.astype(np.float32)),\n",
        "    validation_freq=17\n",
        ")\n",
        "\n",
        "model.save_weights('./fashion_mnist.h5', overwrite=True)"
      ],
      "metadata": {
        "colab": {
          "base_uri": "https://localhost:8080/"
        },
        "id": "Zbw0JMrwKdiX",
        "outputId": "e6ca247e-630f-43d7-8dcc-40f9b0b9ddd2"
      },
      "execution_count": 25,
      "outputs": [
        {
          "output_type": "stream",
          "name": "stdout",
          "text": [
            "Epoch 1/17\n",
            "60/60 [==============================] - 5s 21ms/step - loss: 0.5958 - sparse_categorical_accuracy: 0.7985\n",
            "Epoch 2/17\n",
            "60/60 [==============================] - 1s 21ms/step - loss: 0.3462 - sparse_categorical_accuracy: 0.8771\n",
            "Epoch 3/17\n",
            "60/60 [==============================] - 1s 21ms/step - loss: 0.2980 - sparse_categorical_accuracy: 0.8939\n",
            "Epoch 4/17\n",
            "60/60 [==============================] - 1s 21ms/step - loss: 0.2657 - sparse_categorical_accuracy: 0.9048\n",
            "Epoch 5/17\n",
            "60/60 [==============================] - 1s 21ms/step - loss: 0.2393 - sparse_categorical_accuracy: 0.9139\n",
            "Epoch 6/17\n",
            "60/60 [==============================] - 1s 21ms/step - loss: 0.2130 - sparse_categorical_accuracy: 0.9230\n",
            "Epoch 7/17\n",
            "60/60 [==============================] - 1s 21ms/step - loss: 0.1946 - sparse_categorical_accuracy: 0.9291\n",
            "Epoch 8/17\n",
            "60/60 [==============================] - 1s 21ms/step - loss: 0.1745 - sparse_categorical_accuracy: 0.9360\n",
            "Epoch 9/17\n",
            "60/60 [==============================] - 1s 21ms/step - loss: 0.1625 - sparse_categorical_accuracy: 0.9410\n",
            "Epoch 10/17\n",
            "60/60 [==============================] - 1s 21ms/step - loss: 0.1431 - sparse_categorical_accuracy: 0.9486\n",
            "Epoch 11/17\n",
            "60/60 [==============================] - 1s 21ms/step - loss: 0.1322 - sparse_categorical_accuracy: 0.9527\n",
            "Epoch 12/17\n",
            "60/60 [==============================] - 1s 21ms/step - loss: 0.1209 - sparse_categorical_accuracy: 0.9566\n",
            "Epoch 13/17\n",
            "60/60 [==============================] - 1s 21ms/step - loss: 0.1064 - sparse_categorical_accuracy: 0.9620\n",
            "Epoch 14/17\n",
            "60/60 [==============================] - 1s 21ms/step - loss: 0.0961 - sparse_categorical_accuracy: 0.9659\n",
            "Epoch 15/17\n",
            "60/60 [==============================] - 1s 21ms/step - loss: 0.0846 - sparse_categorical_accuracy: 0.9701\n",
            "Epoch 16/17\n",
            "60/60 [==============================] - 1s 21ms/step - loss: 0.0775 - sparse_categorical_accuracy: 0.9722\n",
            "Epoch 17/17\n",
            "60/60 [==============================] - 7s 119ms/step - loss: 0.0677 - sparse_categorical_accuracy: 0.9762 - val_loss: 0.2747 - val_sparse_categorical_accuracy: 0.9175\n"
          ]
        }
      ]
    },
    {
      "cell_type": "code",
      "source": [
        ""
      ],
      "metadata": {
        "id": "REWKdILnMM3h"
      },
      "execution_count": null,
      "outputs": []
    }
  ]
}